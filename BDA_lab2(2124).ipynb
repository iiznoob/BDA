{
  "nbformat": 4,
  "nbformat_minor": 0,
  "metadata": {
    "colab": {
      "provenance": []
    },
    "kernelspec": {
      "name": "python3",
      "display_name": "Python 3"
    },
    "language_info": {
      "name": "python"
    }
  },
  "cells": [
    {
      "cell_type": "markdown",
      "source": [
        "\n",
        "\n",
        "\n",
        "<h4>Lab No 2</h4>\n",
        "<h4 align=\"right\">Utkarsh Bhangale<br>2020802124</h4>"
      ],
      "metadata": {
        "id": "3HUZnv18IEW3"
      }
    },
    {
      "cell_type": "markdown",
      "source": [
        "Algorithm for Hypothesis testing\n",
        " 1. Generate 1000 random numbers for x and y\n",
        " 2. Calculate the mean and standard deviation of x and y\n",
        " 3. Calculate the standard error of the mean of x and y\n",
        " 4. Calculate the Z score\n",
        " 5. Calculate the p-value\n",
        " 6. Print the results\n",
        " 7. Print result of the hypothesis test\n",
        " 8. Plot the distribution of x and y\n"
      ],
      "metadata": {
        "id": "YmMLyTPI6rdz"
      }
    },
    {
      "cell_type": "code",
      "execution_count": 9,
      "metadata": {
        "id": "E5rPw-6PHuSm",
        "colab": {
          "base_uri": "https://localhost:8080/",
          "height": 317
        },
        "outputId": "2b00a482-ec57-444c-e251-26d1e5d85d2e"
      },
      "outputs": [
        {
          "output_type": "stream",
          "name": "stdout",
          "text": [
            "Z score:  -0.5082400783071823\n",
            "p-value:  0.6112849872090684\n",
            "Accept the null hypothesis\n"
          ]
        },
        {
          "output_type": "display_data",
          "data": {
            "text/plain": [
              "<Figure size 432x288 with 1 Axes>"
            ],
            "image/png": "[encoded data removed]"
          },
          "metadata": {
            "needs_background": "light"
          }
        }
      ],
      "source": [
        "# Perform Hypothesis Testing (Z-test, P-value)\n",
        "\n",
        "import numpy as np\n",
        "import matplotlib.pyplot as plt\n",
        "import scipy.stats as stats\n",
        "\n",
        "# Generate 1000 random numbers for x and y\n",
        "x = np.random.normal(0, 1, 1000)\n",
        "y = np.random.normal(0, 1, 1000)\n",
        "\n",
        "# Calculate the mean and standard deviation of x and y\n",
        "x_mean = np.mean(x)\n",
        "y_mean = np.mean(y)\n",
        "x_std = np.std(x)\n",
        "y_std = np.std(y)\n",
        "\n",
        "# Calculate the standard error of the mean of x and y\n",
        "x_sem = x_std / np.sqrt(len(x))\n",
        "y_sem = y_std / np.sqrt(len(y))\n",
        "\n",
        "# Calculate the Z score\n",
        "z = (x_mean - y_mean) / np.sqrt(x_sem**2 + y_sem**2)\n",
        "\n",
        "# Calculate the p-value\n",
        "p = stats.norm.sf(abs(z))*2\n",
        "\n",
        "# Print the results\n",
        "print(\"Z score: \", z)\n",
        "print(\"p-value: \", p)\n",
        "\n",
        "# Print result of the hypothesis test\n",
        "if p < 0.05:\n",
        "    print(\"Reject the null hypothesis\")\n",
        "else:\n",
        "    print(\"Accept the null hypothesis\")\n",
        "\n",
        "# Plot the distribution of x and y\n",
        "plt.hist(x, alpha=0.5, label='x')\n",
        "plt.hist(y, alpha=0.5, label='y')\n",
        "plt.legend(loc='upper right')\n",
        "plt.show()"
      ]
    }
  ]
}